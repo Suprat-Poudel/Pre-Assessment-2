{
 "cells": [
  {
   "cell_type": "markdown",
   "id": "ee431865",
   "metadata": {},
   "source": [
    "Solution 1"
   ]
  },
  {
   "cell_type": "code",
   "execution_count": 2,
   "id": "5d315416",
   "metadata": {},
   "outputs": [
    {
     "name": "stdout",
     "output_type": "stream",
     "text": [
      "2002,2009,2016,2023,2037,2044,2051,2058,2072,2079,2086,2093,2107,2114,2121,2128,2142,2149,2156,2163,2177,2184,2191,2198,2212,2219,2226,2233,2247,2254,2261,2268,2282,2289,2296,2303,2317,2324,2331,2338,2352,2359,2366,2373,2387,2394,2401,2408,2422,2429,2436,2443,2457,2464,2471,2478,2492,2499,2506,2513,2527,2534,2541,2548,2562,2569,2576,2583,2597,2604,2611,2618,2632,2639,2646,2653,2667,2674,2681,2688,2702,2709,2716,2723,2737,2744,2751,2758,2772,2779,2786,2793,2807,2814,2821,2828,2842,2849,2856,2863,2877,2884,2891,2898,2912,2919,2926,2933,2947,2954,2961,2968,2982,2989,2996,3003,3017,3024,3031,3038,3052,3059,3066,3073,3087,3094,3101,3108,3122,3129,3136,3143,3157,3164,3171,3178,3192,3199\n"
     ]
    }
   ],
   "source": [
    "a=[]\n",
    "for x in range(2000, 3200):\n",
    "    if (x%7==0) and (x%5!=0):\n",
    "        a.append(str(x))\n",
    "print (','.join(a))\n"
   ]
  },
  {
   "cell_type": "markdown",
   "id": "746527c0",
   "metadata": {},
   "source": [
    "Solution 2"
   ]
  },
  {
   "cell_type": "code",
   "execution_count": 3,
   "id": "3d17dbe6",
   "metadata": {},
   "outputs": [
    {
     "name": "stdout",
     "output_type": "stream",
     "text": [
      "Enter Number: 8\n",
      "The factorial of 8 is 40320\n"
     ]
    }
   ],
   "source": [
    "num=int(input(\"Enter Number: \"))\n",
    "factorial = 1\n",
    "\n",
    "if num < 0:\n",
    "   print(\"Sorry, factorial does not exist for negative numbers\")\n",
    "elif num == 0:\n",
    "   print(\"The factorial of 0 is 1\")\n",
    "else:\n",
    "   for i in range(1,num + 1):\n",
    "       factorial = factorial*i\n",
    "   print(\"The factorial of\",num,\"is\",factorial)"
   ]
  },
  {
   "cell_type": "markdown",
   "id": "f7c6d145",
   "metadata": {},
   "source": [
    "Solution 3"
   ]
  },
  {
   "cell_type": "code",
   "execution_count": 4,
   "id": "96407505",
   "metadata": {},
   "outputs": [
    {
     "name": "stdout",
     "output_type": "stream",
     "text": [
      "Type a number: 8\n",
      "{1: 1, 2: 4, 3: 9, 4: 16, 5: 25, 6: 36, 7: 49, 8: 64}\n"
     ]
    }
   ],
   "source": [
    "number = int(input(\"Type a number: \"))\n",
    "\n",
    "numberDict = {}\n",
    "for i in range(1, number+1):\n",
    "    numberDict[i] = i*i\n",
    "\n",
    "print(numberDict)"
   ]
  },
  {
   "cell_type": "markdown",
   "id": "906bf3e4",
   "metadata": {},
   "source": [
    "Solution 4"
   ]
  },
  {
   "cell_type": "code",
   "execution_count": 5,
   "id": "fa53fe91",
   "metadata": {},
   "outputs": [
    {
     "name": "stdout",
     "output_type": "stream",
     "text": [
      "Enter some comma seprated numbers : 34,67,55,33,12,98\n",
      "List :  ['34', '67', '55', '33', '12', '98']\n",
      "Tuple :  ('34', '67', '55', '33', '12', '98')\n"
     ]
    }
   ],
   "source": [
    "num = input(\"Enter some comma seprated numbers : \")\n",
    "list = num.split(\",\")\n",
    "tuple = tuple(list)\n",
    "print('List : ',list)\n",
    "print('Tuple : ',tuple)"
   ]
  },
  {
   "cell_type": "markdown",
   "id": "37df3c73",
   "metadata": {},
   "source": [
    "Solution 5"
   ]
  },
  {
   "cell_type": "code",
   "execution_count": 7,
   "id": "02cee2eb",
   "metadata": {},
   "outputs": [
    {
     "name": "stdout",
     "output_type": "stream",
     "text": [
      "hello world\n",
      "HELLO WORLD\n"
     ]
    }
   ],
   "source": [
    "class str():\n",
    "    def __init__(self):\n",
    "        self.str1 = \"\"\n",
    "\n",
    "    def get_String(self):\n",
    "        self.str1 = input()\n",
    "\n",
    "    def print_String(self):\n",
    "        print(self.str1.upper())\n",
    "\n",
    "str1 = str()\n",
    "str1.get_String()\n",
    "str1.print_String()\n"
   ]
  },
  {
   "cell_type": "markdown",
   "id": "3836e196",
   "metadata": {},
   "source": [
    "Solution 6"
   ]
  },
  {
   "cell_type": "code",
   "execution_count": 10,
   "id": "93c50f6f",
   "metadata": {},
   "outputs": [
    {
     "name": "stdout",
     "output_type": "stream",
     "text": [
      "Enter D: 100,150,180\n",
      "[18, 22, 24]\n"
     ]
    }
   ],
   "source": [
    "import math\n",
    "\n",
    "numbers = input(\"Enter D: \")\n",
    "numbers = numbers.split(',')\n",
    "\n",
    "result_list = []\n",
    "for D in numbers:\n",
    "    Q = round(math.sqrt(2 * 50 * int(D) / 30))\n",
    "    result_list.append(Q)\n",
    "\n",
    "print(result_list)"
   ]
  },
  {
   "cell_type": "markdown",
   "id": "d9607f58",
   "metadata": {},
   "source": [
    "Solution 7"
   ]
  },
  {
   "cell_type": "code",
   "execution_count": 11,
   "id": "67d17b2b",
   "metadata": {},
   "outputs": [
    {
     "name": "stdout",
     "output_type": "stream",
     "text": [
      "Input number of rows: 3\n",
      "Input number of columns: 5\n",
      "[[0, 0, 0, 0, 0], [0, 1, 2, 3, 4], [0, 2, 4, 6, 8]]\n"
     ]
    }
   ],
   "source": [
    "i = int(input(\"Input number of rows: \"))\n",
    "j = int(input(\"Input number of columns: \"))\n",
    "array = [[0 for col in range(j)] for row in range(i)]\n",
    "for row in range(i):\n",
    "    for col in range(j):\n",
    "        array[row][col]= row*col\n",
    "print(array)"
   ]
  },
  {
   "cell_type": "markdown",
   "id": "6909f162",
   "metadata": {},
   "source": [
    "Solution 8"
   ]
  },
  {
   "cell_type": "code",
   "execution_count": 12,
   "id": "17fd83b4",
   "metadata": {},
   "outputs": [
    {
     "name": "stdout",
     "output_type": "stream",
     "text": [
      "Input words: with, hello, bag, world\n",
      " bag,  hello,  world, with\n"
     ]
    }
   ],
   "source": [
    "words = input(\"Input words: \")\n",
    "\n",
    "wordlist = words.split(\",\")\n",
    "wordlist.sort()\n",
    "print((', ').join(wordlist))"
   ]
  },
  {
   "cell_type": "markdown",
   "id": "acb0d6f6",
   "metadata": {},
   "source": [
    "Solution 9"
   ]
  },
  {
   "cell_type": "code",
   "execution_count": 17,
   "id": "e74739ee",
   "metadata": {},
   "outputs": [
    {
     "name": "stdout",
     "output_type": "stream",
     "text": [
      "hello world\n",
      "\n",
      "HELLO WORLD\n"
     ]
    }
   ],
   "source": [
    "lines = []\n",
    "while True:\n",
    "    l = input()\n",
    "    if l:\n",
    "        lines.append(l.upper())\n",
    "    else:\n",
    "        break;\n",
    "\n",
    "for l in lines:\n",
    "    print(l)"
   ]
  },
  {
   "cell_type": "markdown",
   "id": "282ee773",
   "metadata": {},
   "source": [
    "Solution 10"
   ]
  },
  {
   "cell_type": "code",
   "execution_count": 18,
   "id": "69abe0a1",
   "metadata": {},
   "outputs": [
    {
     "name": "stdout",
     "output_type": "stream",
     "text": [
      "Enter a sentence: hello world and practice makes perfect and hello world again\n",
      "again and hello makes perfect practice world\n"
     ]
    }
   ],
   "source": [
    "sen = input(\"Enter a sentence: \")\n",
    "sen_splited = sen.split(' ')\n",
    "\n",
    "word_list = []\n",
    "for i in sen_splited:\n",
    "    if i not in word_list:\n",
    "        word_list.append(i)\n",
    "    else:\n",
    "        continue\n",
    "word_list.sort()\n",
    "print((' ').join(word_list))"
   ]
  },
  {
   "cell_type": "markdown",
   "id": "d031c890",
   "metadata": {},
   "source": [
    "Solution 11"
   ]
  },
  {
   "cell_type": "code",
   "execution_count": 19,
   "id": "892451b3",
   "metadata": {},
   "outputs": [
    {
     "name": "stdout",
     "output_type": "stream",
     "text": [
      "0100,0011,1010,1001\n",
      "1010\n"
     ]
    }
   ],
   "source": [
    "items = []\n",
    "num = [x for x in input().split(',')]\n",
    "for p in num:\n",
    "    x = int(p, 2)\n",
    "    if not x%5:\n",
    "        items.append(p)\n",
    "print(','.join(items))"
   ]
  },
  {
   "cell_type": "markdown",
   "id": "06b5a713",
   "metadata": {},
   "source": [
    "Solution 12"
   ]
  },
  {
   "cell_type": "code",
   "execution_count": 24,
   "id": "dea9a7bb",
   "metadata": {},
   "outputs": [
    {
     "name": "stdout",
     "output_type": "stream",
     "text": [
      "Input a stringhello world! 123\n",
      "Letters 10\n",
      "Digits 3\n"
     ]
    }
   ],
   "source": [
    "s = input(\"Input a string\")\n",
    "d=l=0\n",
    "for c in s:\n",
    "    if c.isdigit():\n",
    "        d=d+1\n",
    "    elif c.isalpha():\n",
    "        l=l+1\n",
    "    else:\n",
    "        pass\n",
    "print(\"Letters\", l)\n",
    "print(\"Digits\", d)"
   ]
  },
  {
   "cell_type": "markdown",
   "id": "e9c9e518",
   "metadata": {},
   "source": [
    "Solution 14"
   ]
  },
  {
   "cell_type": "code",
   "execution_count": 27,
   "id": "bb837825",
   "metadata": {},
   "outputs": [
    {
     "name": "stdout",
     "output_type": "stream",
     "text": [
      "Enter string:Hello world!\n",
      "The number of lowercase characters is:\n",
      "9\n",
      "The number of uppercase characters is:\n",
      "1\n"
     ]
    }
   ],
   "source": [
    "string=input(\"Enter string:\")\n",
    "count1=0\n",
    "count2=0\n",
    "for i in string:\n",
    "      if(i.islower()):\n",
    "            count1=count1+1\n",
    "      elif(i.isupper()):\n",
    "            count2=count2+1\n",
    "print(\"The number of lowercase characters is:\")\n",
    "print(count1)\n",
    "print(\"The number of uppercase characters is:\")\n",
    "print(count2)"
   ]
  },
  {
   "cell_type": "markdown",
   "id": "f5e7e4ec",
   "metadata": {},
   "source": [
    "Solution 15"
   ]
  },
  {
   "cell_type": "code",
   "execution_count": 31,
   "id": "2c9c31a8",
   "metadata": {},
   "outputs": [
    {
     "name": "stdout",
     "output_type": "stream",
     "text": [
      "Input an integer : 9\n",
      "11106\n"
     ]
    }
   ],
   "source": [
    "a = int(input(\"Input an integer : \"))\n",
    "n1 = int( \"%s\" % a )\n",
    "n2 = int( \"%s%s\" % (a,a) )\n",
    "n3 = int( \"%s%s%s\" % (a,a,a) )\n",
    "n4 = int( \"%s%s%s%s\" % (a,a,a,a) )\n",
    "print (n1+n2+n3+n4)\n"
   ]
  },
  {
   "cell_type": "markdown",
   "id": "3ef8ac66",
   "metadata": {},
   "source": [
    "Solution 17"
   ]
  },
  {
   "cell_type": "code",
   "execution_count": 41,
   "id": "b0aaa6da",
   "metadata": {},
   "outputs": [
    {
     "name": "stdout",
     "output_type": "stream",
     "text": [
      "D 300\n",
      "D 300\n",
      "W 200\n",
      "D 100\n",
      "\n",
      "500\n"
     ]
    }
   ],
   "source": [
    "netAmount = 0\n",
    "while True:\n",
    "    s = input()\n",
    "    if not s:\n",
    "        break\n",
    "    values = s.split(\" \")\n",
    "    operation = values[0]\n",
    "    amount = int(values[1])\n",
    "    if operation==\"D\":\n",
    "        netAmount+=amount\n",
    "    elif operation==\"W\":\n",
    "        netAmount-=amount\n",
    "    else:\n",
    "        pass\n",
    "print(netAmount)"
   ]
  },
  {
   "cell_type": "markdown",
   "id": "a895c497",
   "metadata": {},
   "source": [
    "Solution 18"
   ]
  },
  {
   "cell_type": "code",
   "execution_count": 42,
   "id": "2c7146a8",
   "metadata": {},
   "outputs": [
    {
     "name": "stdout",
     "output_type": "stream",
     "text": [
      "Type in: ABd1234@1,a F1#,2w3E*,2We3345\n",
      "ABd1234@1\n"
     ]
    }
   ],
   "source": [
    "import re\n",
    "\n",
    "passwords = input(\"Type in: \")\n",
    "passwords = passwords.split(\",\")\n",
    "\n",
    "accepted_pass = []\n",
    "for i in passwords:\n",
    "    \n",
    "    if len(i) < 6 or len(i) > 12:\n",
    "        continue\n",
    "\n",
    "    elif not re.search(\"([a-z])+\", i):\n",
    "        continue\n",
    "\n",
    "    elif not re.search(\"([A-Z])+\", i):\n",
    "        continue\n",
    "\n",
    "    elif not re.search(\"([0-9])+\", i):\n",
    "        continue\n",
    "\n",
    "    elif not re.search(\"([!@$%^&])+\", i):\n",
    "        continue\n",
    "\n",
    "    else:\n",
    "        accepted_pass.append(i)\n",
    "\n",
    "print((\" \").join(accepted_pass))"
   ]
  },
  {
   "cell_type": "markdown",
   "id": "cd1e44c0",
   "metadata": {},
   "source": [
    "Solution 19"
   ]
  },
  {
   "cell_type": "code",
   "execution_count": 46,
   "id": "3a277e40",
   "metadata": {},
   "outputs": [
    {
     "name": "stdout",
     "output_type": "stream",
     "text": [
      "Tom,19,80 John,20,90 Jony,17,91 Jony,17,93 Json,21,85\n",
      "[['John', '20', '90'], ['Jony', '17', '91'], ['Jony', '17', '93'], ['Json', '21', '85'], ['Tom', '19', '80']]\n"
     ]
    }
   ],
   "source": [
    "info = input()\n",
    "info_list = [case.split(',') for case in info.split(' ')] \n",
    "print(sorted(info_list))"
   ]
  },
  {
   "cell_type": "markdown",
   "id": "0109e965",
   "metadata": {},
   "source": [
    "Solution 20"
   ]
  },
  {
   "cell_type": "code",
   "execution_count": 50,
   "id": "cdab1489",
   "metadata": {},
   "outputs": [
    {
     "name": "stdout",
     "output_type": "stream",
     "text": [
      "0\n",
      "7\n",
      "14\n",
      "21\n",
      "28\n",
      "35\n",
      "42\n",
      "49\n"
     ]
    }
   ],
   "source": [
    "class iterator(object):\n",
    "    def __init__(self, n):\n",
    "        super(iterator, self).__init__()\n",
    "        self.n = n\n",
    "    def divBySeven(self):\n",
    "        for i in range(0, self.n):\n",
    "            if i % 7 == 0:\n",
    "                yield i\n",
    "for num in iterator(50).divBySeven():\n",
    "    print (num)"
   ]
  },
  {
   "cell_type": "markdown",
   "id": "9aa963ec",
   "metadata": {},
   "source": [
    "Solution 21"
   ]
  },
  {
   "cell_type": "code",
   "execution_count": 53,
   "id": "c6686846",
   "metadata": {},
   "outputs": [
    {
     "name": "stdout",
     "output_type": "stream",
     "text": [
      "Type in UP/DOWN/LEFT/RIGHT #step number: UP 5\n",
      "Type in UP/DOWN/LEFT/RIGHT #step number: DOWN 3\n",
      "Type in UP/DOWN/LEFT/RIGHT #step number: LEFT 3\n",
      "Type in UP/DOWN/LEFT/RIGHT #step number: RIGHT 2\n",
      "Type in UP/DOWN/LEFT/RIGHT #step number: \n",
      "Distance: 2\n"
     ]
    }
   ],
   "source": [
    "import math\n",
    "\n",
    "x, y = 0, 0\n",
    "\n",
    "while True:\n",
    "    step = input(\"Type in UP/DOWN/LEFT/RIGHT #step number: \")\n",
    "\n",
    "    if step == \"\":\n",
    "        break\n",
    "\n",
    "    else:\n",
    "        step = step.split(\" \")\n",
    "\n",
    "        if step[0] == \"UP\":\n",
    "            y = y + int(step[1])\n",
    "        elif step[0] == \"DOWN\":\n",
    "            y = y - int(step[1])\n",
    "        elif step[0] == \"LEFT\":\n",
    "            x = x - int(step[1])\n",
    "        elif step[0] == \"RIGHT\":\n",
    "            x = x + int(step[1])\n",
    "\n",
    "c = math.sqrt(x**2 + y**2)\n",
    "\n",
    "print(\"Distance:\", round(c))"
   ]
  },
  {
   "cell_type": "markdown",
   "id": "7f289cef",
   "metadata": {},
   "source": [
    "Solution 22"
   ]
  },
  {
   "cell_type": "code",
   "execution_count": 57,
   "id": "1c30bb0d",
   "metadata": {},
   "outputs": [
    {
     "name": "stdout",
     "output_type": "stream",
     "text": [
      "Enter the string:New to Python or choosing between Python 2 and Python 3? Read Python 2 or Python 3.\n",
      "[('2', 2), ('3.', 1), ('3?', 1), ('New', 1), ('Python', 5), ('Read', 1), ('and', 1), ('between', 1), ('choosing', 1), ('or', 2), ('to', 1)]\n"
     ]
    }
   ],
   "source": [
    "d=dict()\n",
    "s=input(\"Enter the string:\")\n",
    "for i in s.split():\n",
    "    d[i]=d.get(i,0)+1\n",
    "print(sorted(d.items()))"
   ]
  },
  {
   "cell_type": "markdown",
   "id": "2f0ddaf1",
   "metadata": {},
   "source": [
    "Solution 23"
   ]
  },
  {
   "cell_type": "code",
   "execution_count": 58,
   "id": "178630b8",
   "metadata": {},
   "outputs": [
    {
     "name": "stdout",
     "output_type": "stream",
     "text": [
      "Enter a number to get its square 2\n",
      "Square of  2 is  4\n"
     ]
    }
   ],
   "source": [
    "number = int(input('Enter a number to get its square '))\n",
    " \n",
    "def calculateSquare(num):\n",
    "    return num*num\n",
    "\n",
    "print(\"Square of \",number, \"is \", calculateSquare(number))"
   ]
  },
  {
   "cell_type": "markdown",
   "id": "781565b9",
   "metadata": {},
   "source": [
    "Solution 24"
   ]
  },
  {
   "cell_type": "code",
   "execution_count": 66,
   "id": "3bd7811a",
   "metadata": {},
   "outputs": [
    {
     "name": "stdout",
     "output_type": "stream",
     "text": [
      "Enter Number :-20\n",
      "20\n",
      "Return the absolute value of the argument.\n",
      "int([x]) -> integer\n",
      "int(x, base=10) -> integer\n",
      "\n",
      "Convert a number or string to an integer, or return 0 if no arguments\n",
      "are given.  If x is a number, return x.__int__().  For floating point\n",
      "numbers, this truncates towards zero.\n",
      "\n",
      "If x is not a number or if base is given, then x must be a string,\n",
      "bytes, or bytearray instance representing an integer literal in the\n",
      "given base.  The literal can be preceded by '+' or '-' and be surrounded\n",
      "by whitespace.  The base defaults to 10.  Valid bases are 0 and 2-36.\n",
      "Base 0 means to interpret the base from the string as an integer literal.\n",
      ">>> int('0b100', base=0)\n",
      "4\n",
      "Forward raw_input to frontends\n",
      "\n",
      "        Raises\n",
      "        ------\n",
      "        StdinNotImplementedError if active frontend doesn't support stdin.\n",
      "        \n"
     ]
    }
   ],
   "source": [
    "def absolute(n):\n",
    "    return abs(n)\n",
    "print (absolute(int(input('Enter Number :'))))\n",
    "print (abs.__doc__)\n",
    "print (int.__doc__)\n",
    "print (input.__doc__)"
   ]
  },
  {
   "cell_type": "markdown",
   "id": "214c3553",
   "metadata": {},
   "source": [
    "Solution 26"
   ]
  },
  {
   "cell_type": "code",
   "execution_count": 67,
   "id": "52a26905",
   "metadata": {},
   "outputs": [
    {
     "name": "stdout",
     "output_type": "stream",
     "text": [
      "input the number one: 10\n",
      "input the number one :2\n",
      "The sum is 12\n"
     ]
    }
   ],
   "source": [
    "def add_num(a,b):\n",
    "    sum=a+b;\n",
    "    return sum; \n",
    "num1=int(input(\"input the number one: \"))\n",
    "num2=int(input(\"input the number one :\"))\n",
    "\n",
    "print(\"The sum is\",add_num(num1,num2))"
   ]
  },
  {
   "cell_type": "markdown",
   "id": "76e7946f",
   "metadata": {},
   "source": [
    "Solution 27"
   ]
  },
  {
   "cell_type": "code",
   "execution_count": 70,
   "id": "681784d9",
   "metadata": {},
   "outputs": [
    {
     "name": "stdout",
     "output_type": "stream",
     "text": [
      "<class 'int'>\n",
      "<class 'str'>\n"
     ]
    }
   ],
   "source": [
    "num = 10\n",
    " \n",
    "print(type(num))\n",
    " \n",
    "converted_num = \"% s\" % num\n",
    "print(type(converted_num))"
   ]
  },
  {
   "cell_type": "markdown",
   "id": "3e851809",
   "metadata": {},
   "source": [
    "Solution 28"
   ]
  },
  {
   "cell_type": "code",
   "execution_count": 73,
   "id": "6a8755bd",
   "metadata": {},
   "outputs": [
    {
     "name": "stdout",
     "output_type": "stream",
     "text": [
      "Enter num1 20\n",
      "Enter num2 10\n",
      "Sum =  30\n"
     ]
    }
   ],
   "source": [
    "def calculateSum (a,b):\n",
    "    s = int(a) + int(b)\n",
    "    return s \n",
    "\n",
    "num1 = input(\"Enter num1 \")\n",
    "num2 = input(\"Enter num2 \")\n",
    "\n",
    "sum = calculateSum (num1, num2)\n",
    "\n",
    "print (\"Sum = \", sum)"
   ]
  },
  {
   "cell_type": "markdown",
   "id": "24ade3df",
   "metadata": {},
   "source": [
    "Solution 29"
   ]
  },
  {
   "cell_type": "code",
   "execution_count": 74,
   "id": "be99ccbd",
   "metadata": {},
   "outputs": [
    {
     "name": "stdout",
     "output_type": "stream",
     "text": [
      "Enter text1 hello\n",
      "Enter text2 world\n",
      "helloworld\n"
     ]
    }
   ],
   "source": [
    "var1 = input(\"Enter text1 \")\n",
    "var2 = input(\"Enter text2 \")\n",
    " \n",
    "# + Operator is used to combine strings\n",
    "var3 = var1 + var2\n",
    "print(var3)"
   ]
  },
  {
   "cell_type": "markdown",
   "id": "c151293e",
   "metadata": {},
   "source": [
    "Solution 30"
   ]
  },
  {
   "cell_type": "code",
   "execution_count": 84,
   "id": "545e297c",
   "metadata": {},
   "outputs": [
    {
     "name": "stdout",
     "output_type": "stream",
     "text": [
      "enter First String: hello\n",
      "enter Second String: world\n",
      "hello\n",
      "world\n"
     ]
    }
   ],
   "source": [
    "def length_of_string(str1, str2):\n",
    "    if (len(str1) == len(str2)):\n",
    "        print(str1)\n",
    "        print(str2)\n",
    "    elif (len(str1) < len(str2)):\n",
    "        print(str2)\n",
    "    else:\n",
    "        print(str1)\n",
    "\n",
    "stri1 = input(\"enter First String: \")\n",
    "stri2 = input(\"enter Second String: \")\n",
    "\n",
    "\n",
    "length_of_string(stri1, stri2)"
   ]
  },
  {
   "cell_type": "markdown",
   "id": "bf3417f3",
   "metadata": {},
   "source": [
    "Solution 31"
   ]
  },
  {
   "cell_type": "code",
   "execution_count": 87,
   "id": "6c970c43",
   "metadata": {},
   "outputs": [
    {
     "name": "stdout",
     "output_type": "stream",
     "text": [
      "{1: 1, 2: 4, 3: 9, 4: 16, 5: 25, 6: 36, 7: 49, 8: 64, 9: 81, 10: 100, 11: 121, 12: 144, 13: 169, 14: 196, 15: 225, 16: 256, 17: 289, 18: 324, 19: 361, 20: 400}\n"
     ]
    }
   ],
   "source": [
    "def fun():\n",
    "    d=dict()\n",
    "    for x in range(1,21):\n",
    "        d[x]=x**2\n",
    "    print(d) \n",
    "fun()"
   ]
  },
  {
   "cell_type": "markdown",
   "id": "76add5cc",
   "metadata": {},
   "source": [
    "Solution 32"
   ]
  },
  {
   "cell_type": "code",
   "execution_count": 89,
   "id": "db29e9b4",
   "metadata": {},
   "outputs": [
    {
     "name": "stdout",
     "output_type": "stream",
     "text": [
      "1\n",
      "2\n",
      "3\n",
      "4\n",
      "5\n",
      "6\n",
      "7\n",
      "8\n",
      "9\n",
      "10\n",
      "11\n",
      "12\n",
      "13\n",
      "14\n",
      "15\n",
      "16\n",
      "17\n",
      "18\n",
      "19\n",
      "20\n"
     ]
    }
   ],
   "source": [
    "def func():\n",
    "    d=dict()\n",
    "    for i in range(1,21):\n",
    "        d[i]=i**2\n",
    "    for j in d.keys():\n",
    "        print(j) \n",
    "func()"
   ]
  },
  {
   "cell_type": "markdown",
   "id": "60a117af",
   "metadata": {},
   "source": [
    "Solution 33"
   ]
  },
  {
   "cell_type": "code",
   "execution_count": 96,
   "id": "6dfa185e",
   "metadata": {},
   "outputs": [
    {
     "name": "stdout",
     "output_type": "stream",
     "text": [
      "[1, 4, 9, 16, 25, 36, 49, 64, 81, 100, 121, 144, 169, 196, 225, 256, 289, 324, 361, 400]\n"
     ]
    }
   ],
   "source": [
    "def func():\n",
    "    lst = [i ** 2 for i in range(1, 21)]\n",
    "    print(lst)\n",
    "\n",
    "func()"
   ]
  },
  {
   "cell_type": "markdown",
   "id": "e021a612",
   "metadata": {},
   "source": [
    "Soution 34"
   ]
  },
  {
   "cell_type": "code",
   "execution_count": 97,
   "id": "00ade97c",
   "metadata": {},
   "outputs": [
    {
     "name": "stdout",
     "output_type": "stream",
     "text": [
      "1\n",
      "4\n",
      "9\n",
      "16\n",
      "25\n"
     ]
    }
   ],
   "source": [
    "def func():\n",
    "    lst = [i ** 2 for i in range(1, 21)]\n",
    "\n",
    "    for i in range(5):\n",
    "        print(lst[i])\n",
    "\n",
    "func()"
   ]
  },
  {
   "cell_type": "markdown",
   "id": "ed63250c",
   "metadata": {},
   "source": [
    "Solution 35"
   ]
  },
  {
   "cell_type": "code",
   "execution_count": 98,
   "id": "128aa155",
   "metadata": {},
   "outputs": [
    {
     "name": "stdout",
     "output_type": "stream",
     "text": [
      "400\n",
      "361\n",
      "324\n",
      "289\n",
      "256\n"
     ]
    }
   ],
   "source": [
    "def func():\n",
    "    lst = [i ** 2 for i in range(1, 21)]\n",
    "    for i in range(19,14,-1):\n",
    "        print(lst[i])\n",
    "\n",
    "func()"
   ]
  },
  {
   "cell_type": "markdown",
   "id": "1aba1804",
   "metadata": {},
   "source": [
    "Solution 36"
   ]
  },
  {
   "cell_type": "code",
   "execution_count": 99,
   "id": "d05e7ac9",
   "metadata": {},
   "outputs": [
    {
     "name": "stdout",
     "output_type": "stream",
     "text": [
      "36\n",
      "49\n",
      "64\n",
      "81\n",
      "100\n",
      "121\n",
      "144\n",
      "169\n",
      "196\n",
      "225\n",
      "256\n",
      "289\n",
      "324\n",
      "361\n",
      "400\n"
     ]
    }
   ],
   "source": [
    "def func():\n",
    "    lst = [i ** 2 for i in range(1, 21)]\n",
    "    for i in range(5,20):\n",
    "        print(lst[i])\n",
    "\n",
    "func()"
   ]
  },
  {
   "cell_type": "markdown",
   "id": "6ce3c360",
   "metadata": {},
   "source": [
    "Solution 37"
   ]
  },
  {
   "cell_type": "code",
   "execution_count": 104,
   "id": "0f8d1cde",
   "metadata": {},
   "outputs": [
    {
     "name": "stdout",
     "output_type": "stream",
     "text": [
      "[1, 4, 9, 16, 25, 36, 49, 64, 81, 100, 121, 144, 169, 196, 225, 256, 289, 324, 361, 400]\n"
     ]
    }
   ],
   "source": [
    "def printTupple():\n",
    "    lst = [i ** 2 for i in range(1, 21)]\n",
    "    print((lst))\n",
    "\n",
    "printTupple()"
   ]
  },
  {
   "cell_type": "markdown",
   "id": "dd0be328",
   "metadata": {},
   "source": [
    "Solution 38"
   ]
  },
  {
   "cell_type": "code",
   "execution_count": 107,
   "id": "e8fd30f3",
   "metadata": {},
   "outputs": [
    {
     "name": "stdout",
     "output_type": "stream",
     "text": [
      "(1, 2, 3, 4, 5)\n",
      "(6, 7, 8, 9, 10)\n"
     ]
    }
   ],
   "source": [
    "tup = (1,2,3,4,5,6,7,8,9,10)\n",
    "tuple1 = tup[:5]\n",
    "tuple2 = tup[5:]\n",
    "print(tuple1)\n",
    "print(tuple2)"
   ]
  },
  {
   "cell_type": "markdown",
   "id": "f60e4a08",
   "metadata": {},
   "source": [
    "Solution 39"
   ]
  },
  {
   "cell_type": "code",
   "execution_count": 112,
   "id": "b5d74f6f",
   "metadata": {},
   "outputs": [
    {
     "name": "stdout",
     "output_type": "stream",
     "text": [
      "<generator object <genexpr> at 0x000001F6FFA11690>\n"
     ]
    }
   ],
   "source": [
    "tup = (1,2,3,4,5,6,7,8,9,10)\n",
    "tup1 = (i for i in tup if i%2 == 0)\n",
    "print(tup1)"
   ]
  },
  {
   "cell_type": "markdown",
   "id": "f61d9dbf",
   "metadata": {},
   "source": [
    "Solution 40"
   ]
  },
  {
   "cell_type": "code",
   "execution_count": 113,
   "id": "b32988bf",
   "metadata": {},
   "outputs": [
    {
     "name": "stdout",
     "output_type": "stream",
     "text": [
      "Enter textyes\n",
      "Yes\n"
     ]
    }
   ],
   "source": [
    "s= input(\"Enter text\")\n",
    "if s==\"yes\" or s==\"YES\" or s==\"Yes\":\n",
    "    print(\"Yes\")\n",
    "else:\n",
    "    print(\"No\")"
   ]
  },
  {
   "cell_type": "markdown",
   "id": "030a95fb",
   "metadata": {},
   "source": [
    "Solution 42"
   ]
  },
  {
   "cell_type": "code",
   "execution_count": 131,
   "id": "e9a57d00",
   "metadata": {},
   "outputs": [
    {
     "name": "stdout",
     "output_type": "stream",
     "text": [
      "4\n",
      "16\n",
      "36\n",
      "64\n",
      "100\n"
     ]
    }
   ],
   "source": [
    "def even(x):\n",
    "    return x%2==0\n",
    "\n",
    "def square(x):\n",
    "    return x*x\n",
    "\n",
    "li = [1,2,3,4,5,6,7,8,9,10]\n",
    "li = map(square,filter(even,li))   \n",
    "for i in li:\n",
    "    print(i)"
   ]
  },
  {
   "cell_type": "markdown",
   "id": "d226ed93",
   "metadata": {},
   "source": [
    "Solution 43"
   ]
  },
  {
   "cell_type": "code",
   "execution_count": 132,
   "id": "fe212cf6",
   "metadata": {},
   "outputs": [
    {
     "name": "stdout",
     "output_type": "stream",
     "text": [
      "evenNumbers\n",
      "2\n",
      "4\n",
      "6\n",
      "8\n",
      "10\n",
      "12\n",
      "14\n",
      "16\n",
      "18\n",
      "20\n"
     ]
    }
   ],
   "source": [
    "def even(x):\n",
    "    return x%2==0\n",
    "\n",
    "evenNumbers = filter(even, range(1,21))\n",
    "print((\"evenNumbers\"))\n",
    "for i in evenNumbers:\n",
    "    print(i)"
   ]
  },
  {
   "cell_type": "markdown",
   "id": "d3cf55b9",
   "metadata": {},
   "source": [
    "Solution 47"
   ]
  },
  {
   "cell_type": "code",
   "execution_count": 135,
   "id": "2713e7cc",
   "metadata": {},
   "outputs": [
    {
     "name": "stdout",
     "output_type": "stream",
     "text": [
      "78.53999999999999\n"
     ]
    }
   ],
   "source": [
    "class Circle():\n",
    "    def __init__(self,r):\n",
    "        self.radius = r\n",
    "\n",
    "    def area(self):\n",
    "        return 3.1416*(self.radius**2)\n",
    "\n",
    "\n",
    "circle = Circle(5)\n",
    "print(circle.area())"
   ]
  },
  {
   "cell_type": "markdown",
   "id": "6640a8ca",
   "metadata": {},
   "source": [
    "Solution 48"
   ]
  },
  {
   "cell_type": "code",
   "execution_count": 136,
   "id": "ec0d0871",
   "metadata": {},
   "outputs": [
    {
     "name": "stdout",
     "output_type": "stream",
     "text": [
      "8\n"
     ]
    }
   ],
   "source": [
    "class Rectangle():\n",
    "    def __init__(self,l,w):\n",
    "        self.length = l\n",
    "        self.width = w\n",
    "\n",
    "    def area(self):\n",
    "        return self.length*self.width\n",
    "\n",
    "\n",
    "rect = Rectangle(2,4)\n",
    "print(rect.area())"
   ]
  },
  {
   "cell_type": "markdown",
   "id": "f7d0b712",
   "metadata": {},
   "source": [
    "Solution 50"
   ]
  },
  {
   "cell_type": "code",
   "execution_count": 138,
   "id": "88757e64",
   "metadata": {},
   "outputs": [
    {
     "ename": "RuntimeError",
     "evalue": "divide by zero!",
     "output_type": "error",
     "traceback": [
      "\u001b[1;31m---------------------------------------------------------------------------\u001b[0m",
      "\u001b[1;31mRuntimeError\u001b[0m                              Traceback (most recent call last)",
      "Input \u001b[1;32mIn [138]\u001b[0m, in \u001b[0;36m<cell line: 1>\u001b[1;34m()\u001b[0m\n\u001b[1;32m----> 1\u001b[0m \u001b[38;5;28;01mraise\u001b[39;00m \u001b[38;5;167;01mRuntimeError\u001b[39;00m(\u001b[38;5;124m'\u001b[39m\u001b[38;5;124mdivide by zero!\u001b[39m\u001b[38;5;124m'\u001b[39m)\n",
      "\u001b[1;31mRuntimeError\u001b[0m: divide by zero!"
     ]
    }
   ],
   "source": [
    "raise RuntimeError('divide by zero!')"
   ]
  },
  {
   "cell_type": "markdown",
   "id": "6a9fa7a1",
   "metadata": {},
   "source": [
    "Solution 51"
   ]
  },
  {
   "cell_type": "code",
   "execution_count": 141,
   "id": "236f7526",
   "metadata": {},
   "outputs": [
    {
     "name": "stdout",
     "output_type": "stream",
     "text": [
      "dividing a number by ZERO!!\n"
     ]
    }
   ],
   "source": [
    "def divide_by_zero():\n",
    "    return 5/0\n",
    "\n",
    "try:\n",
    "    divide_by_zero()\n",
    "except ZeroDivisionError:\n",
    "    print(\"dividing a number by ZERO!!\")"
   ]
  },
  {
   "cell_type": "markdown",
   "id": "f6c31b10",
   "metadata": {},
   "source": [
    "Solution 53"
   ]
  },
  {
   "cell_type": "code",
   "execution_count": 142,
   "id": "7804d24f",
   "metadata": {},
   "outputs": [
    {
     "name": "stdout",
     "output_type": "stream",
     "text": [
      "john\n"
     ]
    }
   ],
   "source": [
    "email = \"john@google.com\"\n",
    "email = email.split('@')\n",
    "print(email[0])"
   ]
  },
  {
   "cell_type": "markdown",
   "id": "85f1f881",
   "metadata": {},
   "source": [
    "Solution 54"
   ]
  },
  {
   "cell_type": "code",
   "execution_count": 143,
   "id": "c6cc4896",
   "metadata": {},
   "outputs": [
    {
     "name": "stdout",
     "output_type": "stream",
     "text": [
      "['google']\n"
     ]
    }
   ],
   "source": [
    "import re\n",
    "\n",
    "email = \"john@google.com\"\n",
    "pattern = \"\\w+@(\\w+).com\"\n",
    "ans = re.findall(pattern,email)\n",
    "print(ans)"
   ]
  },
  {
   "cell_type": "markdown",
   "id": "5db82972",
   "metadata": {},
   "source": [
    "Solution 55"
   ]
  },
  {
   "cell_type": "code",
   "execution_count": 144,
   "id": "08bbc71b",
   "metadata": {},
   "outputs": [
    {
     "name": "stdout",
     "output_type": "stream",
     "text": [
      "2 and 3\n",
      "['2', '3']\n"
     ]
    }
   ],
   "source": [
    "import re\n",
    "email = input()\n",
    "pattern = \"\\d+\"\n",
    "ans = re.findall(pattern,email)\n",
    "print(ans)"
   ]
  },
  {
   "cell_type": "markdown",
   "id": "b277132b",
   "metadata": {},
   "source": [
    "Solution 56"
   ]
  },
  {
   "cell_type": "code",
   "execution_count": 145,
   "id": "fe54ee42",
   "metadata": {},
   "outputs": [
    {
     "name": "stdout",
     "output_type": "stream",
     "text": [
      "hello world!\n"
     ]
    }
   ],
   "source": [
    "unicodeString = u\"hello world!\"\n",
    "print(unicodeString)"
   ]
  },
  {
   "cell_type": "markdown",
   "id": "d3c7e773",
   "metadata": {},
   "source": [
    "Solution 59"
   ]
  },
  {
   "cell_type": "code",
   "execution_count": 147,
   "id": "aecd722e",
   "metadata": {},
   "outputs": [
    {
     "name": "stdout",
     "output_type": "stream",
     "text": [
      "enter the number:5\n",
      "3.55\n"
     ]
    }
   ],
   "source": [
    "n = int(input(\"enter the number:\"))\n",
    "sum = 0\n",
    "for i in range(1, n+1):\n",
    "    sum+= i/(i+1)\n",
    "print(round(sum, 2))"
   ]
  },
  {
   "cell_type": "markdown",
   "id": "706006ea",
   "metadata": {},
   "source": [
    "Solution 61"
   ]
  },
  {
   "cell_type": "code",
   "execution_count": 149,
   "id": "48abb228",
   "metadata": {},
   "outputs": [
    {
     "name": "stdout",
     "output_type": "stream",
     "text": [
      "Enter no.7\n",
      "13\n"
     ]
    }
   ],
   "source": [
    "def func(n):\n",
    "    if n < 2:\n",
    "        return n\n",
    "    return func(n-1) + func(n-2)\n",
    "\n",
    "n = int(input(\"Enter no.\"))\n",
    "print(func(n))"
   ]
  },
  {
   "cell_type": "markdown",
   "id": "f6aa6e7b",
   "metadata": {},
   "source": [
    "Solution 63"
   ]
  },
  {
   "cell_type": "code",
   "execution_count": 150,
   "id": "8f3f3ed7",
   "metadata": {},
   "outputs": [
    {
     "name": "stdout",
     "output_type": "stream",
     "text": [
      "Enter no.10\n",
      "0,2,4,6,8,10\n"
     ]
    }
   ],
   "source": [
    "n = int(input(\"Enter no.\"))\n",
    "\n",
    "for i in range(0, n+1, 2):\n",
    "  if i < n - 1:\n",
    "    print(i, end = ',' )\n",
    "  else:\n",
    "    print(i)"
   ]
  },
  {
   "cell_type": "markdown",
   "id": "bb0eec56",
   "metadata": {},
   "source": [
    "Solution 64"
   ]
  },
  {
   "cell_type": "code",
   "execution_count": 158,
   "id": "ef1fc102",
   "metadata": {},
   "outputs": [
    {
     "name": "stdout",
     "output_type": "stream",
     "text": [
      "100\n"
     ]
    },
    {
     "ename": "TypeError",
     "evalue": "str.__init__() takes 1 positional argument but 2 were given",
     "output_type": "error",
     "traceback": [
      "\u001b[1;31m---------------------------------------------------------------------------\u001b[0m",
      "\u001b[1;31mTypeError\u001b[0m                                 Traceback (most recent call last)",
      "Input \u001b[1;32mIn [158]\u001b[0m, in \u001b[0;36m<cell line: 8>\u001b[1;34m()\u001b[0m\n\u001b[0;32m      7\u001b[0m values \u001b[38;5;241m=\u001b[39m []\n\u001b[0;32m      8\u001b[0m \u001b[38;5;28;01mfor\u001b[39;00m i \u001b[38;5;129;01min\u001b[39;00m Generator(n):\n\u001b[1;32m----> 9\u001b[0m     values\u001b[38;5;241m.\u001b[39mappend(\u001b[38;5;28;43mstr\u001b[39;49m\u001b[43m(\u001b[49m\u001b[43mi\u001b[49m\u001b[43m)\u001b[49m)\n\u001b[0;32m     11\u001b[0m \u001b[38;5;28mprint\u001b[39m (\u001b[38;5;124m\"\u001b[39m\u001b[38;5;124m,\u001b[39m\u001b[38;5;124m\"\u001b[39m\u001b[38;5;241m.\u001b[39mjoin(values))\n",
      "\u001b[1;31mTypeError\u001b[0m: str.__init__() takes 1 positional argument but 2 were given"
     ]
    }
   ],
   "source": [
    "def Generator(n):\n",
    "    for i in range(n+1):\n",
    "        if i%5==0 and i%7==0:\n",
    "            yield i\n",
    "\n",
    "n=int(input())\n",
    "values = []\n",
    "for i in Generator(n):\n",
    "    values.append(str(i))\n",
    "\n",
    "print (\",\".join(values))\n",
    "\n",
    "# Output\n",
    "# 100\n",
    "# 0,35,70"
   ]
  },
  {
   "cell_type": "markdown",
   "id": "7f1f37ae",
   "metadata": {},
   "source": [
    "Solution 65"
   ]
  },
  {
   "cell_type": "code",
   "execution_count": 159,
   "id": "d371b282",
   "metadata": {},
   "outputs": [],
   "source": [
    "li = [2,4,6,8]\n",
    "for i in li:\n",
    "    assert i%2==0\n"
   ]
  },
  {
   "cell_type": "markdown",
   "id": "33456088",
   "metadata": {},
   "source": [
    "Solution 66"
   ]
  },
  {
   "cell_type": "code",
   "execution_count": 163,
   "id": "ce5d7af0",
   "metadata": {},
   "outputs": [
    {
     "name": "stdout",
     "output_type": "stream",
     "text": [
      "1\n"
     ]
    }
   ],
   "source": [
    "def binary_search(lst, item):\n",
    "    low = 0\n",
    "    high = len(lst) - 1\n",
    "    \n",
    "    while low <= high:\n",
    "        mid = round((low + high) / 2)\n",
    "        \n",
    "        if lst[mid] == item:\n",
    "            return mid\n",
    "        elif lst[mid] > item:\n",
    "            high = mid - 1\n",
    "        else:\n",
    "            low = mid + 1\n",
    "    return None\n",
    "    \n",
    "lst = [1,3,5,7,]\n",
    "print(binary_search(lst, 3))  \n",
    " \n"
   ]
  }
 ],
 "metadata": {
  "kernelspec": {
   "display_name": "Python 3 (ipykernel)",
   "language": "python",
   "name": "python3"
  },
  "language_info": {
   "codemirror_mode": {
    "name": "ipython",
    "version": 3
   },
   "file_extension": ".py",
   "mimetype": "text/x-python",
   "name": "python",
   "nbconvert_exporter": "python",
   "pygments_lexer": "ipython3",
   "version": "3.10.1"
  }
 },
 "nbformat": 4,
 "nbformat_minor": 5
}
